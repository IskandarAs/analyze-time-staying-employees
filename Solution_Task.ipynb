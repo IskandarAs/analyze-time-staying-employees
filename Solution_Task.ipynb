{
 "cells": [
  {
   "cell_type": "markdown",
   "metadata": {},
   "source": [
    ">## Task "
   ]
  },
  {
   "cell_type": "markdown",
   "metadata": {},
   "source": [
    "---\n",
    "### Write a python program that calculates the total of staying time all people for each day\n",
    "---"
   ]
  },
  {
   "cell_type": "code",
   "execution_count": 1,
   "metadata": {},
   "outputs": [
    {
     "data": {
      "text/html": [
       "<div>\n",
       "<style scoped>\n",
       "    .dataframe tbody tr th:only-of-type {\n",
       "        vertical-align: middle;\n",
       "    }\n",
       "\n",
       "    .dataframe tbody tr th {\n",
       "        vertical-align: top;\n",
       "    }\n",
       "\n",
       "    .dataframe thead th {\n",
       "        text-align: right;\n",
       "    }\n",
       "</style>\n",
       "<table border=\"1\" class=\"dataframe\">\n",
       "  <thead>\n",
       "    <tr style=\"text-align: right;\">\n",
       "      <th></th>\n",
       "      <th>full_name</th>\n",
       "      <th>start</th>\n",
       "      <th>end</th>\n",
       "    </tr>\n",
       "  </thead>\n",
       "  <tbody>\n",
       "    <tr>\n",
       "      <th>0</th>\n",
       "      <td>i.ivanov</td>\n",
       "      <td>21-12-2011 10:54:47</td>\n",
       "      <td>21-12-2011 19:43:02</td>\n",
       "    </tr>\n",
       "    <tr>\n",
       "      <th>1</th>\n",
       "      <td>a.stepanova</td>\n",
       "      <td>21-12-2011 09:40:10</td>\n",
       "      <td>21-12-2011 17:59:15</td>\n",
       "    </tr>\n",
       "  </tbody>\n",
       "</table>\n",
       "</div>"
      ],
      "text/plain": [
       "     full_name                start                  end\n",
       "0     i.ivanov  21-12-2011 10:54:47  21-12-2011 19:43:02\n",
       "1  a.stepanova  21-12-2011 09:40:10  21-12-2011 17:59:15"
      ]
     },
     "execution_count": 1,
     "metadata": {},
     "output_type": "execute_result"
    }
   ],
   "source": [
    "import pandas as pd\n",
    "import numpy as np\n",
    "\n",
    "# The better method of avoiding memory leaks is doing data processing\n",
    "def data_preprocessing(raw_data):\n",
    "    no_nans = data.dropna()\n",
    "    one_hot_encoded = pd.get_dummies(no_nans)\n",
    "    # some other temp variables\n",
    "    processed_data = 10\n",
    "    return processed_data\n",
    "\n",
    "data = pd.read_csv('Dataset.csv')\n",
    "data_preprocessing(data)\n",
    "data.head()"
   ]
  },
  {
   "cell_type": "code",
   "execution_count": 2,
   "metadata": {},
   "outputs": [
    {
     "data": {
      "text/html": [
       "<div>\n",
       "<style scoped>\n",
       "    .dataframe tbody tr th:only-of-type {\n",
       "        vertical-align: middle;\n",
       "    }\n",
       "\n",
       "    .dataframe tbody tr th {\n",
       "        vertical-align: top;\n",
       "    }\n",
       "\n",
       "    .dataframe thead th {\n",
       "        text-align: right;\n",
       "    }\n",
       "</style>\n",
       "<table border=\"1\" class=\"dataframe\">\n",
       "  <thead>\n",
       "    <tr style=\"text-align: right;\">\n",
       "      <th></th>\n",
       "      <th>full_name</th>\n",
       "      <th>start</th>\n",
       "      <th>end</th>\n",
       "      <th>Tot_time</th>\n",
       "    </tr>\n",
       "  </thead>\n",
       "  <tbody>\n",
       "    <tr>\n",
       "      <th>0</th>\n",
       "      <td>i.ivanov</td>\n",
       "      <td>2011-12-21 10:54:47</td>\n",
       "      <td>2011-12-21 19:43:02</td>\n",
       "      <td>0 days 08:48:15</td>\n",
       "    </tr>\n",
       "    <tr>\n",
       "      <th>1</th>\n",
       "      <td>a.stepanova</td>\n",
       "      <td>2011-12-21 09:40:10</td>\n",
       "      <td>2011-12-21 17:59:15</td>\n",
       "      <td>0 days 08:19:05</td>\n",
       "    </tr>\n",
       "  </tbody>\n",
       "</table>\n",
       "</div>"
      ],
      "text/plain": [
       "     full_name               start                 end        Tot_time\n",
       "0     i.ivanov 2011-12-21 10:54:47 2011-12-21 19:43:02 0 days 08:48:15\n",
       "1  a.stepanova 2011-12-21 09:40:10 2011-12-21 17:59:15 0 days 08:19:05"
      ]
     },
     "execution_count": 2,
     "metadata": {},
     "output_type": "execute_result"
    }
   ],
   "source": [
    "from datetime import datetime\n",
    "#Convert default columns to DateTime\n",
    "data['start'] = pd.to_datetime(data['start'])\n",
    "data['end'] = pd.to_datetime(data['end'])\n",
    "#Calculate the total time spent\n",
    "data['Tot_time'] = data['end'].sub(data['start'], axis = 0)\n",
    "data"
   ]
  },
  {
   "cell_type": "markdown",
   "metadata": {},
   "source": [
    "---\n",
    "### Demonstrate work with tests\n",
    "---"
   ]
  },
  {
   "cell_type": "markdown",
   "metadata": {},
   "source": [
    "#### I. Testing through ipytest"
   ]
  },
  {
   "cell_type": "code",
   "execution_count": 10,
   "metadata": {},
   "outputs": [],
   "source": [
    "import ipytest\n",
    "import pandas as pd\n",
    "import pytest\n",
    "# enable pytest's assertions and ipytest's magics\n",
    "ipytest.config(rewrite_asserts=True, magics=True)\n",
    "\n",
    "# set the filename\n",
    "__file__ = 'C:/Users/User/Desktop/Python_project/Solution_Task.ipynb'\n",
    "\n",
    "def time_difference(data, col1, col2):\n",
    "    return data[col2] - data[col1]\n",
    "\n",
    "def test_time_difference():\n",
    "    # test common cases\n",
    "    data['Tot_time'] = time_difference(data, col1=\"start\", col2=\"end\")\n",
    "    assert all(data[\"Tot_time\"] == data['end'].sub(data['start'], axis = 0))  "
   ]
  },
  {
   "cell_type": "code",
   "execution_count": 11,
   "metadata": {
    "scrolled": false
   },
   "outputs": [
    {
     "name": "stdout",
     "output_type": "stream",
     "text": [
      "============================= test session starts =============================\n",
      "platform win32 -- Python 3.7.6, pytest-6.1.0, py-1.9.0, pluggy-0.13.1 -- C:\\Users\\User\\anaconda3\\python.exe\n",
      "cachedir: .pytest_cache\n",
      "hypothesis profile 'default' -> database=DirectoryBasedExampleDatabase('C:\\\\Users\\\\User\\\\Desktop\\\\Python_project\\\\.hypothesis\\\\examples')\n",
      "rootdir: C:\\Users\\User\\Desktop\\Python_project\n",
      "plugins: hypothesis-5.5.4, arraydiff-0.3, astropy-header-0.1.2, doctestplus-0.5.0, openfiles-0.4.0, remotedata-0.3.2\n",
      "collecting ... collected 1 item\n",
      "\n",
      "Solution_Task.py::test_time_difference <- <ipython-input-10-bddd5076fd22> PASSED\n",
      "\n",
      "============================== 1 passed in 0.05s ==============================\n"
     ]
    }
   ],
   "source": [
    "ipytest.run('-svvv')"
   ]
  },
  {
   "cell_type": "markdown",
   "metadata": {},
   "source": [
    "#### II. Testing through ipython_unittest   "
   ]
  },
  {
   "cell_type": "code",
   "execution_count": 6,
   "metadata": {},
   "outputs": [],
   "source": [
    "%reload_ext ipython_unittest"
   ]
  },
  {
   "cell_type": "code",
   "execution_count": 7,
   "metadata": {},
   "outputs": [
    {
     "data": {
      "application/unittest.status+json": {
       "color": "yellow",
       "message": "",
       "previous": 0
      },
      "text/plain": []
     },
     "metadata": {},
     "output_type": "display_data"
    },
    {
     "data": {
      "application/unittest.status+json": {
       "color": "lightgreen",
       "message": ".\n----------------------------------------------------------------------\nRan 1 test in 0.002s\n\nOK\n",
       "previous": 0
      },
      "text/plain": [
       "Success"
      ]
     },
     "metadata": {},
     "output_type": "display_data"
    },
    {
     "name": "stdout",
     "output_type": "stream",
     "text": [
      ".\n",
      "----------------------------------------------------------------------\n",
      "Ran 1 test in 0.002s\n",
      "\n",
      "OK\n"
     ]
    },
    {
     "data": {
      "text/plain": [
       "<unittest.runner.TextTestResult run=1 errors=0 failures=0>"
      ]
     },
     "execution_count": 7,
     "metadata": {},
     "output_type": "execute_result"
    }
   ],
   "source": [
    "%%unittest_main\n",
    "data = pd.read_csv('C:/Users/User/Desktop/Python_project/Dataset.csv')\n",
    "data['start'] = pd.to_datetime(data['start'])\n",
    "data['end'] = pd.to_datetime(data['end'])\n",
    "#Calculate the total time spent\n",
    "data['Tot_time'] = data['end'].sub(data['start'], axis = 0)\n",
    "def time_difference(data, col1, col2):\n",
    "        return data[col2] - data[col1]\n",
    "class MyTest(unittest.TestCase):\n",
    "    def test_time_difference(self):\n",
    "        # test common cases\n",
    "        data['Tot_time'] = time_difference(data, col1=\"start\", col2=\"end\")\n",
    "        df1 = data['end'].sub(data['start'], axis = 0)\n",
    "        df2 = data[\"Tot_time\"]\n",
    "        assert(df1, df2)"
   ]
  }
 ],
 "metadata": {
  "kernelspec": {
   "display_name": "Python 3",
   "language": "python",
   "name": "python3"
  },
  "language_info": {
   "codemirror_mode": {
    "name": "ipython",
    "version": 3
   },
   "file_extension": ".py",
   "mimetype": "text/x-python",
   "name": "python",
   "nbconvert_exporter": "python",
   "pygments_lexer": "ipython3",
   "version": "3.8.3"
  }
 },
 "nbformat": 4,
 "nbformat_minor": 4
}
